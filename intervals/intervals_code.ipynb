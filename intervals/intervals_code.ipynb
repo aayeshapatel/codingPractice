{
 "cells": [
  {
   "cell_type": "code",
   "execution_count": null,
   "metadata": {},
   "outputs": [],
   "source": []
  },
  {
   "cell_type": "markdown",
   "metadata": {},
   "source": [
    "## 1.You are given a sorted unique integer array nums.\n",
    "\n",
    "A range [a,b] is the set of all integers from a to b (inclusive).\n",
    "\n",
    "Return the smallest sorted list of ranges that cover all the numbers in the array exactly. That is, each element of nums is covered by exactly one of the ranges, and there is no integer x such that x is in one of the ranges but not in nums.\n",
    "\n",
    "Each range [a,b] in the list should be output as:\n",
    "\n",
    "\"a->b\" if a != b\n",
    "\"a\" if a == b\n",
    " \n",
    "\n",
    "Example 1:\n",
    "\n",
    "Input: nums = [0,1,2,4,5,7]\n",
    "Output: [\"0->2\",\"4->5\",\"7\"]\n",
    "Explanation: The ranges are:\n",
    "[0,2] --> \"0->2\"\n",
    "[4,5] --> \"4->5\"\n",
    "[7,7] --> \"7\"\n",
    "Example 2:\n",
    "\n",
    "Input: nums = [0,2,3,4,6,8,9]\n",
    "Output: [\"0\",\"2->4\",\"6\",\"8->9\"]\n",
    "Explanation: The ranges are:\n",
    "[0,0] --> \"0\"\n",
    "[2,4] --> \"2->4\"\n",
    "[6,6] --> \"6\"\n",
    "[8,9] --> \"8->9\""
   ]
  },
  {
   "cell_type": "code",
   "execution_count": null,
   "metadata": {},
   "outputs": [],
   "source": [
    "class Solution:\n",
    "    def summaryRanges(self, nums: List[int]) -> List[str]:\n",
    "        if len(nums)==1:\n",
    "            return [f\"{nums[0]}\"]\n",
    "        res = []\n",
    "        s = 0\n",
    "        for i in range(len(nums)):\n",
    "            if i!=len(nums)-1 and nums[i+1]==nums[i]+1:\n",
    "                continue\n",
    "            else:\n",
    "                res.append(f\"{nums[s]}->{nums[i]}\" if i>s else str(nums[i]))\n",
    "                s=i+1\n",
    "        return res"
   ]
  },
  {
   "cell_type": "markdown",
   "metadata": {},
   "source": [
    "## 1. Merge Intervals:\n",
    "\n",
    "Problem: Given a collection of intervals, merge all overlapping intervals.\n",
    "\n",
    "Example:\n",
    "\n",
    " Input: [[1,3],[2,6],[8,10],[15,18]], \n",
    "\n",
    "Output: [[1,6],[8,10],[15,18]]"
   ]
  },
  {
   "cell_type": "code",
   "execution_count": null,
   "metadata": {},
   "outputs": [],
   "source": [
    "def mergeIntervals(intervals):\n",
    "    if not intervals:\n",
    "        return []\n",
    "    \n",
    "    # sort the intervals by their first element \n",
    "    intervals.sort(key = lambda x:x[0])\n",
    "    # initialize a first interval  \n",
    "    merged = [intervals[0]]\n",
    "\n",
    "    # interate through the intervals and merge them \n",
    "    for i in range(1, len(intervals)):\n",
    "        # get the last interval in merged list  \n",
    "        last_interval =  merged[-1]\n",
    "        # If the current interval overlaps with the last merged interval, merge them\n",
    "\n",
    "        if intervals[i][0] <= last_interval[1]:\n",
    "        # Merge by updating the end of the last merged interval\n",
    "            merged[-1][1] = max(intervals[i][1], last_interval[1])\n",
    "        # if no overlap then add the interval to merged\n",
    "        else:\n",
    "            merged.append(intervals[i])\n",
    "    return merged\n",
    "\n",
    "\n",
    "\n",
    "\n",
    "\n",
    "        "
   ]
  },
  {
   "cell_type": "markdown",
   "metadata": {},
   "source": [
    "## 2. Insert Intervals\n",
    "\n",
    "You are given an array of non-overlapping intervals intervals where intervals[i] = [starti, endi] represent the start and the end of the ith interval and intervals is sorted in ascending order by starti. You are also given an interval newInterval = [start, end] that represents the start and end of another interval.\n",
    "\n",
    "Insert newInterval into intervals such that intervals is still sorted in ascending order by starti and intervals still does not have any overlapping intervals (merge overlapping intervals if necessary).\n",
    "\n",
    "Return intervals after the insertion.\n",
    "\n",
    "Note that you don't need to modify intervals in-place. You can make a new array and return it.\n",
    "\n",
    " \n",
    "\n",
    "Example 1:\n",
    "\n",
    "Input: intervals = [[1,3],[6,9]], newInterval = [2,5]\n",
    "Output: [[1,5],[6,9]]\n",
    "Example 2:\n",
    "\n",
    "Input: intervals = [[1,2],[3,5],[6,7],[8,10],[12,16]], newInterval = [4,8]\n",
    "Output: [[1,2],[3,10],[12,16]]\n",
    "Explanation: Because the new interval [4,8] overlaps with [3,5],[6,7],[8,10]."
   ]
  },
  {
   "cell_type": "code",
   "execution_count": null,
   "metadata": {},
   "outputs": [],
   "source": [
    "intervals = [[1,2],[3,5],[6,7],[8,10],[12,16]]\n",
    "newInterval = [4,8]\n",
    "\n",
    "mergeIntervals = []\n",
    "\n",
    "# Loop through all the intervals\n",
    "for i in intervals:\n",
    "    # If the current interval ends before the new interval starts, add it to the result\n",
    "    if i[1] < newInterval[0]:\n",
    "        mergeIntervals.append(i)\n",
    "    # If the current interval starts after the new interval ends, add the new interval and update it to current\n",
    "    elif i[0] > newInterval[1]:\n",
    "        mergeIntervals.append(newInterval)\n",
    "        newInterval = i\n",
    "    # If there is an overlap, merge the intervals\n",
    "    else:\n",
    "        newInterval = [min(i[0], newInterval[0]), max(i[1], newInterval[1])]\n",
    "\n",
    "# Add the last interval\n",
    "mergeIntervals.append(newInterval)\n",
    "\n",
    "print(mergeIntervals)\n"
   ]
  },
  {
   "cell_type": "markdown",
   "metadata": {},
   "source": [
    "## 3. meeting rooms\n",
    "\n",
    "Given an array of meeting time intervals consisting of start and end times [[start1,end1],[start2,end2],...] (where starti < endi), determine if a person could attend all meetings.\n",
    "\n",
    "Example 1:\n",
    "\n",
    "Input: intervals = [[0,30],[5,10],[15,20]]\n",
    "Output: False\n",
    "Explanation: A person cannot attend all meetings since the first meeting [0, 30] overlaps with the second meeting [5, 10].\n",
    "Example 2:\n",
    "\n",
    "Input: intervals = [[7,10],[2,4]]\n",
    "Output: True\n",
    "Explanation: A person can attend both meetings since they do not overlap."
   ]
  },
  {
   "cell_type": "code",
   "execution_count": null,
   "metadata": {},
   "outputs": [],
   "source": [
    "def meetingRooms(intervals):\n",
    "\n",
    "    if len(intervals) ==0 or len(intervals)==1:\n",
    "        return True\n",
    "    \n",
    "    else:\n",
    "        intervals.sort(key = lambda x:x[0])\n",
    "\n",
    "        for i in range(1,len(intervals)):\n",
    "            # 3 if the currrent interval starts befor previous interval end return False\n",
    "            if intervals[i][0] < intervals[i-1][1]:\n",
    "                return False\n",
    "        return True\n",
    "\n"
   ]
  },
  {
   "cell_type": "markdown",
   "metadata": {},
   "source": [
    "## 4. Non-overlapping Intervals**\n",
    "\n",
    "   - Problem: Find the minimum number of intervals you need to remove to make the rest of the intervals non-overlapping.\n",
    "\n",
    "   - Example: `Input: [[1,2],[2,3],[3,4],[1,3]]`, `Output: 1`"
   ]
  },
  {
   "cell_type": "code",
   "execution_count": null,
   "metadata": {},
   "outputs": [],
   "source": [
    "intervals = [[1,2],[2,3],[3,4],[1,3]]\n",
    "\n",
    "class solution:\n",
    "    def nonOverlappingIntervals(self, intervals:list[list[int]])->int:\n",
    "        intervals.sort()\n",
    "        res= 0\n",
    "        prevEnd = intervals[0][1]\n",
    "\n",
    "        for start, end in intervals[1:]:\n",
    "            # if there is no overlap i.e current interval starts after the prev interval ends\n",
    "            if start >= prevEnd:\n",
    "                prevEnd = end\n",
    "            # if there is overlap\n",
    "            else:\n",
    "                res +=1\n",
    "                prevEnd = min(prevEnd,  end)\n",
    "        return res\n",
    "a= solution()\n",
    "intervals = [[1,2],[2,3],[3,4],[1,3]]\n",
    "a.nonOverlappingIntervals(intervals)"
   ]
  },
  {
   "cell_type": "code",
   "execution_count": 1,
   "metadata": {},
   "outputs": [
    {
     "data": {
      "text/plain": [
       "1"
      ]
     },
     "execution_count": 1,
     "metadata": {},
     "output_type": "execute_result"
    }
   ],
   "source": [
    "# alternative solution \n",
    "\n",
    "class Solution :\n",
    "    def nonOIntervals(self, intervals:list[list[int]])->int:\n",
    "        # sort the intervals by their end time \n",
    "        intervals.sort(key = lambda x:x[1])\n",
    "        res = 0 \n",
    "        prevEnd = intervals[0][1]\n",
    "        for start, end in intervals[1:]:\n",
    "            # if there is no overlap then we will update the prevEnd\n",
    "            if start >=  prevEnd:\n",
    "                prevEnd  = end\n",
    "            # if there is overlap we willconsider removing the inteval which ends earlier so that there will be no future overlaps \n",
    "            else:\n",
    "                res +=1           \n",
    "        return res\n",
    "\n",
    "\n",
    "b= Solution()\n",
    "intervals = [[1,2],[2,3],[3,4],[1,3]]\n",
    "b.nonOIntervals(intervals)\n",
    "        \n",
    "\n"
   ]
  },
  {
   "cell_type": "markdown",
   "metadata": {},
   "source": [
    "## 5. Insert Interval\n",
    "   - Problem: Insert a new interval into a set of non-overlapping intervals, merging if necessary.\n",
    "\n",
    "   - Example: `Input: [[1,3],[6,9]], newInterval = [2,5]`, \n",
    "   \n",
    "    `Output: [[1,5],[6,9]]"
   ]
  },
  {
   "cell_type": "code",
   "execution_count": 4,
   "metadata": {},
   "outputs": [
    {
     "data": {
      "text/plain": [
       "[[1, 5], [6, 9]]"
      ]
     },
     "execution_count": 4,
     "metadata": {},
     "output_type": "execute_result"
    }
   ],
   "source": [
    "intervals  = [[1,3],[6,9]]\n",
    "newInterval = [2,5]\n",
    "res = []\n",
    "\n",
    "for i in intervals:\n",
    "    # If the current interval ends before the new interval starts, add it to the result\n",
    "    if i[1] < newInterval[0]:\n",
    "        res.append(intervals[i])\n",
    "\n",
    "    # If the current interval starts after the new interval ends, add the new interval and update it to current\n",
    "    elif newInterval[1]<i[0]:\n",
    "        res.append(newInterval)\n",
    "        newInterval = i\n",
    "    \n",
    "    # If there is an overlap, merge the intervals\n",
    "    else:\n",
    "        newInterval = [min(i[0], newInterval[0]), max(i[1], newInterval[1])]\n",
    "res.append(newInterval)\n",
    "res\n",
    " "
   ]
  },
  {
   "cell_type": "markdown",
   "metadata": {},
   "source": [
    "## 6.Meeting Rooms II \n",
    "\n",
    "   - Problem: Find the minimum number of conference rooms required given an array of meeting time intervals.\n",
    "\n",
    "   - Example: `Input: [[0,30],[5,10],[15,20]]`, `Output: 2`"
   ]
  },
  {
   "cell_type": "code",
   "execution_count": 18,
   "metadata": {},
   "outputs": [
    {
     "data": {
      "text/plain": [
       "2"
      ]
     },
     "execution_count": 18,
     "metadata": {},
     "output_type": "execute_result"
    }
   ],
   "source": [
    "intervals = [[0,30],[5,10],[15,20]]\n",
    "def meetingRoomsII(intervals):\n",
    "    # seprate the start and the end time i,e make the seprate list for the start time and sepratae list for end time \n",
    "    start_time= []\n",
    "    end_time = []\n",
    "\n",
    "    for start, end in intervals :\n",
    "        start_time.append(start)\n",
    "        end_time.append(end)\n",
    "\n",
    "    sorted(start_time)\n",
    "    sorted(end_time)\n",
    "    \n",
    "    start_pointer = 0\n",
    "    end_pointer= 0\n",
    "    used_rooms =0 \n",
    "    max_rooms =0 \n",
    "\n",
    "    while start_pointer <len(intervals):\n",
    "        # If the current meeting starts before the earliest meeting ends, we need a new room\n",
    "        if start_time[start_pointer] < end_time[end_pointer]:\n",
    "            used_rooms +=1\n",
    "            start_pointer +=1\n",
    "        # otherwise we can reuse the room :\n",
    "        else:\n",
    "            used_rooms -=1\n",
    "            end_pointer +=1\n",
    "        # track the maximum number of rooms used \n",
    "        max_rooms =max(max_rooms,  used_rooms)\n",
    "    return max_rooms\n",
    "\n",
    "\n"
   ]
  },
  {
   "cell_type": "markdown",
   "metadata": {},
   "source": [
    "# 7. Find Right Interval** \n",
    "\n",
    "   - Problem: For every interval in a given array, find the minimum interval that starts after it.\n",
    "   \n",
    "   Example: `Input: [[3,4],[2,3],[1,2]]`\n",
    "   Output: [-1,0,1]\n"
   ]
  },
  {
   "cell_type": "code",
   "execution_count": 37,
   "metadata": {},
   "outputs": [
    {
     "name": "stdout",
     "output_type": "stream",
     "text": [
      "Results [-1, 0, 1]\n"
     ]
    }
   ],
   "source": [
    "intervals = [[3,4],[2,3],[1,2]]\n",
    "\n",
    "\n",
    "# for each interval we need to find a index of interval which satrts just after the current interval ends , and if there is no such interval we will regturn -1\n",
    "\n",
    "\n",
    "\n",
    "\n",
    "end_timing = []\n",
    "start_timing  = []\n",
    "\n",
    "for start, end in intervals:\n",
    "    start_timing.append(start)\n",
    "    end_timing.append(end)\n",
    "\n",
    "result  = []\n",
    "# Find the index of the interval that starts just after the current interval ends\n",
    "\n",
    "\n",
    "start_map = {element: index for index,element in enumerate(start_timing)}\n",
    "\n",
    "for end in end_timing:\n",
    "    possible_starts = [start for start in start_timing if start >= end ]\n",
    "    if possible_starts:\n",
    "        next_start = min(possible_starts)\n",
    "        result.append(start_map[next_start])\n",
    "    else:\n",
    "        result.append(-1)\n",
    "\n",
    "print(\"Results\" , result)\n",
    "\n",
    "\n",
    "\n"
   ]
  },
  {
   "cell_type": "code",
   "execution_count": 17,
   "metadata": {},
   "outputs": [
    {
     "data": {
      "text/plain": [
       "2"
      ]
     },
     "execution_count": 17,
     "metadata": {},
     "output_type": "execute_result"
    }
   ],
   "source": [
    "{0: [3, 4], 1: [2, 3], 2: [1, 2]}\n",
    "\n"
   ]
  }
 ],
 "metadata": {
  "kernelspec": {
   "display_name": "movie_recommender",
   "language": "python",
   "name": "python3"
  },
  "language_info": {
   "codemirror_mode": {
    "name": "ipython",
    "version": 3
   },
   "file_extension": ".py",
   "mimetype": "text/x-python",
   "name": "python",
   "nbconvert_exporter": "python",
   "pygments_lexer": "ipython3",
   "version": "3.9.19"
  }
 },
 "nbformat": 4,
 "nbformat_minor": 2
}
